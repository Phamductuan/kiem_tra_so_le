{
 "cells": [
  {
   "cell_type": "code",
   "execution_count": 7,
   "id": "6cb35705",
   "metadata": {},
   "outputs": [
    {
     "name": "stdout",
     "output_type": "stream",
     "text": [
      "nhap so de kiem tra: \n",
      "3\n",
      " 3.0 la so le\n"
     ]
    }
   ],
   "source": [
    "try:\n",
    "    print(\"nhap so de kiem tra: \")\n",
    "    num = input()\n",
    "    num = float(num)\n",
    "    if num %2 == 0:\n",
    "        print(f\" {num} la so chan\")\n",
    "    elif num %2 == 1:\n",
    "        print(f\" {num} la so le\")\n",
    "    else:\n",
    "        print(f\" {num} khong phai so tu nhien\")\n",
    "except:\n",
    "    print(f\"{num} khong dung kieu du lieu\")"
   ]
  }
 ],
 "metadata": {
  "kernelspec": {
   "display_name": "Python 3 (ipykernel)",
   "language": "python",
   "name": "python3"
  },
  "language_info": {
   "codemirror_mode": {
    "name": "ipython",
    "version": 3
   },
   "file_extension": ".py",
   "mimetype": "text/x-python",
   "name": "python",
   "nbconvert_exporter": "python",
   "pygments_lexer": "ipython3",
   "version": "3.9.6"
  }
 },
 "nbformat": 4,
 "nbformat_minor": 5
}
